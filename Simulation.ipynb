{
 "cells": [
  {
   "cell_type": "code",
   "execution_count": 67,
   "metadata": {},
   "outputs": [],
   "source": [
    "import pandas as pd\n",
    "import numpy as np\n",
    "from math import sqrt\n",
    "from funcoesTermosol import *\n",
    "import os"
   ]
  },
  {
   "cell_type": "code",
   "execution_count": 68,
   "metadata": {},
   "outputs": [],
   "source": [
    "excel = pd.ExcelFile('Truss Setup.xlsx')\n",
    "df_nodes = pd.read_excel(excel, 'Nodes')\n",
    "df_incidences = pd.read_excel(excel, 'Elements')\n",
    "df_loads = pd.read_excel(excel, 'Loads')\n",
    "df_restrains = pd.read_excel(excel, 'Restrains')"
   ]
  },
  {
   "cell_type": "code",
   "execution_count": 69,
   "metadata": {},
   "outputs": [],
   "source": [
    "amount_nodes = int(df_nodes.iloc[0, 3])\n",
    "amount_incidence = int(df_incidences.iloc[0, 5])\n",
    "amount_loads = int(df_loads.iloc[0, 4])\n",
    "amount_restrains = int(df_restrains.iloc[0, 3])\n",
    "\n",
    "df_node = df_nodes.iloc[:, 0:2].transpose()\n",
    "df_incidence = df_incidences.iloc[:, 0:4]\n",
    "df_load = df_loads.iloc[: , 0:3]\n",
    "df_restrain = df_restrains.iloc[: , 0:2]"
   ]
  },
  {
   "cell_type": "code",
   "execution_count": 70,
   "metadata": {},
   "outputs": [],
   "source": [
    "def freedom_matrix(node_amount, dimension=2):\n",
    "    freedom_index = []\n",
    "    for degree in range(dimension*node_amount):\n",
    "        freedom_index.append(degree + 1)\n",
    "    return pd.DataFrame(index=freedom_index, columns=freedom_index).fillna(0)\n",
    "\n",
    "df_freedom = freedom_matrix(amount_nodes)"
   ]
  },
  {
   "cell_type": "code",
   "execution_count": 71,
   "metadata": {},
   "outputs": [],
   "source": [
    "def element_length(node1, node2):\n",
    "    n1 = df_node.iloc[:2, node1 - 1]\n",
    "    n2 = df_node.iloc[:2, node2 - 1]\n",
    "    return sqrt( (n2[0] - n1[0])**2 + (n2[1] - n1[1])**2 )"
   ]
  },
  {
   "cell_type": "code",
   "execution_count": 72,
   "metadata": {},
   "outputs": [],
   "source": [
    "def matrix_sin_cos(node1, node2):\n",
    "    l = element_length(node1, node2)\n",
    "    n1 = df_node.iloc[:2, node1 - 1]\n",
    "    n2 = df_node.iloc[:2, node2 - 1]\n",
    "    c = (n2[0] - n1[0])**2/l\n",
    "    s = (n2[1] - n1[1])**2/l\n",
    "    freedom_index = [2*node1-1, 2*node1, 2*node2-1, 2*node2]\n",
    "    data = [[  c**2,   c*s, -c**2,  -c*s],\n",
    "            [   c*s,  s**2,  -c*s, -s**2],\n",
    "            [ -c**2,  -c*s,  c**2,   c*s],\n",
    "            [  -c*s, -s**2,   c*s,  s**2]]\n",
    "    return pd.DataFrame(data, index=freedom_index, columns=freedom_index)"
   ]
  },
  {
   "cell_type": "code",
   "execution_count": 73,
   "metadata": {},
   "outputs": [],
   "source": [
    "def Ke (node1, node2):\n",
    "    msc = matrix_sin_cos(node1, node2)\n",
    "    try:\n",
    "        E = df_incidence[(matrix_incidence['Node 1'] == node1) & (df_incidence['Node 2'] == node2)]['E [Pa]']\n",
    "        A = df_incidence[(matrix_incidence['Node 1'] == node1) & (df_incidence['Node 2'] == node2)]['A [m²]']\n",
    "    except:\n",
    "        E = df_incidence[(matrix_incidence['Node 1'] == node2) & (df_incidence['Node 2'] == node1)]['E [Pa]']\n",
    "        A = df_incidence[(matrix_incidence['Node 1'] == node2) & (df_incidence['Node 2'] == node1)]['A [m²]']\n",
    "    l = element_length(node1, node2)\n",
    "    return ( E.values[0]*A.values[0]/l ) * msc"
   ]
  },
  {
   "cell_type": "code",
   "execution_count": 74,
   "metadata": {},
   "outputs": [],
   "source": [
    "Ke_list = []\n",
    "for element in range(amount_incidence):\n",
    "    node1 = int(df_incidence.iloc[element,:].loc['Node 1'])\n",
    "    node2 = int(df_incidence.iloc[element,:].loc['Node 2'])\n",
    "    Ke_list.append(Ke(node1, node2))"
   ]
  },
  {
   "cell_type": "code",
   "execution_count": 75,
   "metadata": {},
   "outputs": [],
   "source": [
    "def overlapping(matrix1, matrix2):\n",
    "    overlap = lambda v1, v2: v1 + v2\n",
    "    return matrix1.combine(matrix2, overlap).fillna(0)"
   ]
  },
  {
   "cell_type": "code",
   "execution_count": 76,
   "metadata": {},
   "outputs": [
    {
     "data": {
      "text/html": [
       "<div>\n",
       "<style scoped>\n",
       "    .dataframe tbody tr th:only-of-type {\n",
       "        vertical-align: middle;\n",
       "    }\n",
       "\n",
       "    .dataframe tbody tr th {\n",
       "        vertical-align: top;\n",
       "    }\n",
       "\n",
       "    .dataframe thead th {\n",
       "        text-align: right;\n",
       "    }\n",
       "</style>\n",
       "<table border=\"1\" class=\"dataframe\">\n",
       "  <thead>\n",
       "    <tr style=\"text-align: right;\">\n",
       "      <th></th>\n",
       "      <th>1</th>\n",
       "      <th>2</th>\n",
       "      <th>3</th>\n",
       "      <th>4</th>\n",
       "      <th>5</th>\n",
       "      <th>6</th>\n",
       "    </tr>\n",
       "  </thead>\n",
       "  <tbody>\n",
       "    <tr>\n",
       "      <th>1</th>\n",
       "      <td>2721600.0</td>\n",
       "      <td>4838400.0</td>\n",
       "      <td>0.0</td>\n",
       "      <td>0.0</td>\n",
       "      <td>-2721600.0</td>\n",
       "      <td>-4838400.0</td>\n",
       "    </tr>\n",
       "    <tr>\n",
       "      <th>2</th>\n",
       "      <td>4838400.0</td>\n",
       "      <td>42201600.0</td>\n",
       "      <td>0.0</td>\n",
       "      <td>-16800000.0</td>\n",
       "      <td>-4838400.0</td>\n",
       "      <td>-8601600.0</td>\n",
       "    </tr>\n",
       "    <tr>\n",
       "      <th>3</th>\n",
       "      <td>0.0</td>\n",
       "      <td>0.0</td>\n",
       "      <td>12600000.0</td>\n",
       "      <td>0.0</td>\n",
       "      <td>-12600000.0</td>\n",
       "      <td>0.0</td>\n",
       "    </tr>\n",
       "    <tr>\n",
       "      <th>4</th>\n",
       "      <td>0.0</td>\n",
       "      <td>-16800000.0</td>\n",
       "      <td>0.0</td>\n",
       "      <td>33600000.0</td>\n",
       "      <td>0.0</td>\n",
       "      <td>0.0</td>\n",
       "    </tr>\n",
       "    <tr>\n",
       "      <th>5</th>\n",
       "      <td>-2721600.0</td>\n",
       "      <td>-4838400.0</td>\n",
       "      <td>-12600000.0</td>\n",
       "      <td>0.0</td>\n",
       "      <td>27921600.0</td>\n",
       "      <td>4838400.0</td>\n",
       "    </tr>\n",
       "    <tr>\n",
       "      <th>6</th>\n",
       "      <td>-4838400.0</td>\n",
       "      <td>-8601600.0</td>\n",
       "      <td>0.0</td>\n",
       "      <td>0.0</td>\n",
       "      <td>4838400.0</td>\n",
       "      <td>8601600.0</td>\n",
       "    </tr>\n",
       "  </tbody>\n",
       "</table>\n",
       "</div>"
      ],
      "text/plain": [
       "           1           2           3           4           5          6\n",
       "1  2721600.0   4838400.0         0.0         0.0  -2721600.0 -4838400.0\n",
       "2  4838400.0  42201600.0         0.0 -16800000.0  -4838400.0 -8601600.0\n",
       "3        0.0         0.0  12600000.0         0.0 -12600000.0        0.0\n",
       "4        0.0 -16800000.0         0.0  33600000.0         0.0        0.0\n",
       "5 -2721600.0  -4838400.0 -12600000.0         0.0  27921600.0  4838400.0\n",
       "6 -4838400.0  -8601600.0         0.0         0.0   4838400.0  8601600.0"
      ]
     },
     "execution_count": 76,
     "metadata": {},
     "output_type": "execute_result"
    }
   ],
   "source": [
    "df_global_rigidity = df_freedom.copy()\n",
    "for Ke in Ke_list:\n",
    "    df_global_rigidity += overlapping(df_global_rigidity, Ke)\n",
    "df_global_rigidity"
   ]
  },
  {
   "cell_type": "code",
   "execution_count": 77,
   "metadata": {},
   "outputs": [
    {
     "data": {
      "text/html": [
       "<div>\n",
       "<style scoped>\n",
       "    .dataframe tbody tr th:only-of-type {\n",
       "        vertical-align: middle;\n",
       "    }\n",
       "\n",
       "    .dataframe tbody tr th {\n",
       "        vertical-align: top;\n",
       "    }\n",
       "\n",
       "    .dataframe thead th {\n",
       "        text-align: right;\n",
       "    }\n",
       "</style>\n",
       "<table border=\"1\" class=\"dataframe\">\n",
       "  <thead>\n",
       "    <tr style=\"text-align: right;\">\n",
       "      <th></th>\n",
       "      <th>Node</th>\n",
       "      <th>1 = x               2 = y</th>\n",
       "      <th>Unnamed: 2</th>\n",
       "      <th>Restrains Amount</th>\n",
       "    </tr>\n",
       "  </thead>\n",
       "  <tbody>\n",
       "    <tr>\n",
       "      <th>0</th>\n",
       "      <td>1</td>\n",
       "      <td>1</td>\n",
       "      <td>NaN</td>\n",
       "      <td>3.0</td>\n",
       "    </tr>\n",
       "    <tr>\n",
       "      <th>1</th>\n",
       "      <td>2</td>\n",
       "      <td>1</td>\n",
       "      <td>NaN</td>\n",
       "      <td>NaN</td>\n",
       "    </tr>\n",
       "    <tr>\n",
       "      <th>2</th>\n",
       "      <td>2</td>\n",
       "      <td>2</td>\n",
       "      <td>NaN</td>\n",
       "      <td>NaN</td>\n",
       "    </tr>\n",
       "  </tbody>\n",
       "</table>\n",
       "</div>"
      ],
      "text/plain": [
       "   Node  1 = x               2 = y  Unnamed: 2  Restrains Amount\n",
       "0     1                          1         NaN               3.0\n",
       "1     2                          1         NaN               NaN\n",
       "2     2                          2         NaN               NaN"
      ]
     },
     "execution_count": 77,
     "metadata": {},
     "output_type": "execute_result"
    }
   ],
   "source": [
    "df_restrains"
   ]
  },
  {
   "cell_type": "code",
   "execution_count": 78,
   "metadata": {},
   "outputs": [
    {
     "name": "stdout",
     "output_type": "stream",
     "text": [
      "[1, 3, 4]\n"
     ]
    }
   ],
   "source": [
    "\n",
    "dimensions = 2\n",
    "freedom_restrains = []\n",
    "for restrain in range(amount_restrains):\n",
    "    if df_restrains['1 = x               2 = y'][restrain] == 1:\n",
    "        freedom_restrains.append( dimensions*df_restrain['Node'][restrain] - 1 )\n",
    "    else:\n",
    "        freedom_restrains.append( dimensions*df_restrain['Node'][restrain] )\n",
    "\n",
    "print(freedom_restrains)    "
   ]
  },
  {
   "cell_type": "code",
   "execution_count": 79,
   "metadata": {},
   "outputs": [
    {
     "data": {
      "text/html": [
       "<div>\n",
       "<style scoped>\n",
       "    .dataframe tbody tr th:only-of-type {\n",
       "        vertical-align: middle;\n",
       "    }\n",
       "\n",
       "    .dataframe tbody tr th {\n",
       "        vertical-align: top;\n",
       "    }\n",
       "\n",
       "    .dataframe thead th {\n",
       "        text-align: right;\n",
       "    }\n",
       "</style>\n",
       "<table border=\"1\" class=\"dataframe\">\n",
       "  <thead>\n",
       "    <tr style=\"text-align: right;\">\n",
       "      <th></th>\n",
       "      <th>2</th>\n",
       "      <th>5</th>\n",
       "      <th>6</th>\n",
       "    </tr>\n",
       "  </thead>\n",
       "  <tbody>\n",
       "    <tr>\n",
       "      <th>2</th>\n",
       "      <td>42201600.0</td>\n",
       "      <td>-4838400.0</td>\n",
       "      <td>-8601600.0</td>\n",
       "    </tr>\n",
       "    <tr>\n",
       "      <th>5</th>\n",
       "      <td>-4838400.0</td>\n",
       "      <td>27921600.0</td>\n",
       "      <td>4838400.0</td>\n",
       "    </tr>\n",
       "    <tr>\n",
       "      <th>6</th>\n",
       "      <td>-8601600.0</td>\n",
       "      <td>4838400.0</td>\n",
       "      <td>8601600.0</td>\n",
       "    </tr>\n",
       "  </tbody>\n",
       "</table>\n",
       "</div>"
      ],
      "text/plain": [
       "            2           5          6\n",
       "2  42201600.0  -4838400.0 -8601600.0\n",
       "5  -4838400.0  27921600.0  4838400.0\n",
       "6  -8601600.0   4838400.0  8601600.0"
      ]
     },
     "execution_count": 79,
     "metadata": {},
     "output_type": "execute_result"
    }
   ],
   "source": [
    "new_rows = df_global_rigidity.index.difference(freedom_restrains).to_list()\n",
    "new_cols = df_global_rigidity.columns.difference(freedom_restrains).to_list()\n",
    "df_contours = df_global_rigidity.loc[new_cols, new_rows]\n",
    "df_contours"
   ]
  },
  {
   "cell_type": "code",
   "execution_count": 82,
   "metadata": {},
   "outputs": [
    {
     "data": {
      "text/html": [
       "<div>\n",
       "<style scoped>\n",
       "    .dataframe tbody tr th:only-of-type {\n",
       "        vertical-align: middle;\n",
       "    }\n",
       "\n",
       "    .dataframe tbody tr th {\n",
       "        vertical-align: top;\n",
       "    }\n",
       "\n",
       "    .dataframe thead th {\n",
       "        text-align: right;\n",
       "    }\n",
       "</style>\n",
       "<table border=\"1\" class=\"dataframe\">\n",
       "  <thead>\n",
       "    <tr style=\"text-align: right;\">\n",
       "      <th></th>\n",
       "      <th>Node</th>\n",
       "      <th>1 = x               2 = y</th>\n",
       "      <th>Load [N]</th>\n",
       "    </tr>\n",
       "  </thead>\n",
       "  <tbody>\n",
       "    <tr>\n",
       "      <th>0</th>\n",
       "      <td>3</td>\n",
       "      <td>1</td>\n",
       "      <td>150</td>\n",
       "    </tr>\n",
       "    <tr>\n",
       "      <th>1</th>\n",
       "      <td>3</td>\n",
       "      <td>2</td>\n",
       "      <td>-100</td>\n",
       "    </tr>\n",
       "  </tbody>\n",
       "</table>\n",
       "</div>"
      ],
      "text/plain": [
       "   Node  1 = x               2 = y  Load [N]\n",
       "0     3                          1       150\n",
       "1     3                          2      -100"
      ]
     },
     "execution_count": 82,
     "metadata": {},
     "output_type": "execute_result"
    }
   ],
   "source": [
    "df_load"
   ]
  },
  {
   "cell_type": "code",
   "execution_count": 91,
   "metadata": {},
   "outputs": [
    {
     "name": "stdout",
     "output_type": "stream",
     "text": [
      "   F\n",
      "2  0\n",
      "5  0\n",
      "6  0\n"
     ]
    },
    {
     "data": {
      "text/html": [
       "<div>\n",
       "<style scoped>\n",
       "    .dataframe tbody tr th:only-of-type {\n",
       "        vertical-align: middle;\n",
       "    }\n",
       "\n",
       "    .dataframe tbody tr th {\n",
       "        vertical-align: top;\n",
       "    }\n",
       "\n",
       "    .dataframe thead th {\n",
       "        text-align: right;\n",
       "    }\n",
       "</style>\n",
       "<table border=\"1\" class=\"dataframe\">\n",
       "  <thead>\n",
       "    <tr style=\"text-align: right;\">\n",
       "      <th></th>\n",
       "      <th>F</th>\n",
       "    </tr>\n",
       "  </thead>\n",
       "  <tbody>\n",
       "    <tr>\n",
       "      <th>2</th>\n",
       "      <td>0</td>\n",
       "    </tr>\n",
       "    <tr>\n",
       "      <th>5</th>\n",
       "      <td>150</td>\n",
       "    </tr>\n",
       "    <tr>\n",
       "      <th>6</th>\n",
       "      <td>-100</td>\n",
       "    </tr>\n",
       "  </tbody>\n",
       "</table>\n",
       "</div>"
      ],
      "text/plain": [
       "     F\n",
       "2    0\n",
       "5  150\n",
       "6 -100"
      ]
     },
     "execution_count": 91,
     "metadata": {},
     "output_type": "execute_result"
    }
   ],
   "source": [
    "df_global_forces = pd.DataFrame(index=new_cols, columns=['F']).fillna(0)\n",
    "print(df_global_forces)\n",
    "dimensions = 2\n",
    "for load in range(amount_loads):\n",
    "    if df_load['1 = x               2 = y'][load] == 1:\n",
    "        df_global_forces['F'][dimensions*df_load['Node'][load] - 1 ] = df_load['Load [N]'][load] \n",
    "    else:\n",
    "        df_global_forces['F'][dimensions*df_load['Node'][load]] = df_load['Load [N]'][load]\n",
    "\n",
    "df_global_forces"
   ]
  },
  {
   "cell_type": "code",
   "execution_count": 102,
   "metadata": {},
   "outputs": [
    {
     "data": {
      "text/html": [
       "<div>\n",
       "<style scoped>\n",
       "    .dataframe tbody tr th:only-of-type {\n",
       "        vertical-align: middle;\n",
       "    }\n",
       "\n",
       "    .dataframe tbody tr th {\n",
       "        vertical-align: top;\n",
       "    }\n",
       "\n",
       "    .dataframe thead th {\n",
       "        text-align: right;\n",
       "    }\n",
       "</style>\n",
       "<table border=\"1\" class=\"dataframe\">\n",
       "  <thead>\n",
       "    <tr style=\"text-align: right;\">\n",
       "      <th></th>\n",
       "      <th>0</th>\n",
       "    </tr>\n",
       "  </thead>\n",
       "  <tbody>\n",
       "    <tr>\n",
       "      <th>0</th>\n",
       "      <td>-0.000003</td>\n",
       "    </tr>\n",
       "    <tr>\n",
       "      <th>1</th>\n",
       "      <td>0.000008</td>\n",
       "    </tr>\n",
       "    <tr>\n",
       "      <th>2</th>\n",
       "      <td>-0.000019</td>\n",
       "    </tr>\n",
       "  </tbody>\n",
       "</table>\n",
       "</div>"
      ],
      "text/plain": [
       "          0\n",
       "0 -0.000003\n",
       "1  0.000008\n",
       "2 -0.000019"
      ]
     },
     "execution_count": 102,
     "metadata": {},
     "output_type": "execute_result"
    }
   ],
   "source": [
    "\n",
    "df_nodal_displacement = pd.DataFrame(np.linalg.solve(df_contours, df_global_forces))\n",
    "df_nodal_displacement"
   ]
  },
  {
   "cell_type": "code",
   "execution_count": 94,
   "metadata": {},
   "outputs": [
    {
     "data": {
      "text/plain": [
       "array([[  2721600.        ,   4838400.        ,         0.        ,\n",
       "                0.        ,  -2721600.        ,  -4838400.        ],\n",
       "       [  4838400.        ,  42201600.00000001,         0.        ,\n",
       "        -16800000.00000001,  -4838400.        ,  -8601600.        ],\n",
       "       [        0.        ,         0.        ,  12600000.        ,\n",
       "                0.        , -12600000.        ,         0.        ],\n",
       "       [        0.        , -16800000.00000001,         0.        ,\n",
       "         33600000.00000001,         0.        ,         0.        ],\n",
       "       [ -2721600.        ,  -4838400.        , -12600000.        ,\n",
       "                0.        ,  27921600.        ,   4838400.        ],\n",
       "       [ -4838400.        ,  -8601600.        ,         0.        ,\n",
       "                0.        ,   4838400.        ,   8601600.        ]])"
      ]
     },
     "execution_count": 94,
     "metadata": {},
     "output_type": "execute_result"
    }
   ],
   "source": [
    "df_global_rigidity.to_numpy()"
   ]
  },
  {
   "cell_type": "code",
   "execution_count": 96,
   "metadata": {},
   "outputs": [
    {
     "data": {
      "text/html": [
       "<div>\n",
       "<style scoped>\n",
       "    .dataframe tbody tr th:only-of-type {\n",
       "        vertical-align: middle;\n",
       "    }\n",
       "\n",
       "    .dataframe tbody tr th {\n",
       "        vertical-align: top;\n",
       "    }\n",
       "\n",
       "    .dataframe thead th {\n",
       "        text-align: right;\n",
       "    }\n",
       "</style>\n",
       "<table border=\"1\" class=\"dataframe\">\n",
       "  <thead>\n",
       "    <tr style=\"text-align: right;\">\n",
       "      <th></th>\n",
       "      <th>Node 1</th>\n",
       "      <th>Node 2</th>\n",
       "      <th>E [Pa]</th>\n",
       "      <th>A [m²]</th>\n",
       "    </tr>\n",
       "  </thead>\n",
       "  <tbody>\n",
       "    <tr>\n",
       "      <th>0</th>\n",
       "      <td>1</td>\n",
       "      <td>2</td>\n",
       "      <td>210000000000</td>\n",
       "      <td>0.0002</td>\n",
       "    </tr>\n",
       "    <tr>\n",
       "      <th>1</th>\n",
       "      <td>2</td>\n",
       "      <td>3</td>\n",
       "      <td>210000000000</td>\n",
       "      <td>0.0002</td>\n",
       "    </tr>\n",
       "    <tr>\n",
       "      <th>2</th>\n",
       "      <td>3</td>\n",
       "      <td>1</td>\n",
       "      <td>210000000000</td>\n",
       "      <td>0.0002</td>\n",
       "    </tr>\n",
       "  </tbody>\n",
       "</table>\n",
       "</div>"
      ],
      "text/plain": [
       "   Node 1  Node 2        E [Pa]  A [m²]\n",
       "0       1       2  210000000000  0.0002\n",
       "1       2       3  210000000000  0.0002\n",
       "2       3       1  210000000000  0.0002"
      ]
     },
     "execution_count": 96,
     "metadata": {},
     "output_type": "execute_result"
    }
   ],
   "source": [
    "df_incidence"
   ]
  }
 ],
 "metadata": {
  "interpreter": {
   "hash": "9c688c3da5bd2a32d81bf7eab5b87f3347d8796b309d332b5605ebd5586bf298"
  },
  "kernelspec": {
   "display_name": "Python 3.9.7 64-bit",
   "language": "python",
   "name": "python3"
  },
  "language_info": {
   "codemirror_mode": {
    "name": "ipython",
    "version": 3
   },
   "file_extension": ".py",
   "mimetype": "text/x-python",
   "name": "python",
   "nbconvert_exporter": "python",
   "pygments_lexer": "ipython3",
   "version": "3.9.7"
  },
  "orig_nbformat": 4
 },
 "nbformat": 4,
 "nbformat_minor": 2
}

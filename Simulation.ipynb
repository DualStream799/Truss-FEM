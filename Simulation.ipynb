{
 "cells": [
  {
   "cell_type": "code",
   "execution_count": 117,
   "metadata": {},
   "outputs": [],
   "source": [
    "import pandas as pd\n",
    "import numpy as np\n",
    "from math import sqrt\n",
    "from funcoesTermosol import *\n",
    "from pprint import pprint\n",
    "import os"
   ]
  },
  {
   "cell_type": "code",
   "execution_count": 118,
   "metadata": {},
   "outputs": [],
   "source": [
    "excel = pd.ExcelFile('Truss Setup.xlsx')\n",
    "df_nodes = pd.read_excel(excel, 'Nodes')\n",
    "df_incidences = pd.read_excel(excel, 'Elements')\n",
    "df_loads = pd.read_excel(excel, 'Loads')\n",
    "df_restrains = pd.read_excel(excel, 'Restrains')"
   ]
  },
  {
   "cell_type": "code",
   "execution_count": 119,
   "metadata": {},
   "outputs": [],
   "source": [
    "amount_nodes = int(df_nodes.iloc[0, 3])\n",
    "amount_incidence = int(df_incidences.iloc[0, 5])\n",
    "amount_loads = int(df_loads.iloc[0, 4])\n",
    "amount_restrains = int(df_restrains.iloc[0, 3])\n",
    "\n",
    "df_node = df_nodes.iloc[:, 0:2].transpose()\n",
    "df_incidence = df_incidences.iloc[:, 0:4]\n",
    "df_load = df_loads.iloc[: , 0:3]\n",
    "df_restrain = df_restrains.iloc[: , 0:2]"
   ]
  },
  {
   "cell_type": "code",
   "execution_count": 170,
   "metadata": {},
   "outputs": [],
   "source": [
    "def freedom_matrix(node_amount, dimension=2):\n",
    "    freedom_index = []\n",
    "    for degree in range(dimension*node_amount):\n",
    "        freedom_index.append(degree + 1)\n",
    "    return pd.DataFrame(index=freedom_index, columns=freedom_index).fillna(0)"
   ]
  },
  {
   "cell_type": "code",
   "execution_count": 187,
   "metadata": {},
   "outputs": [],
   "source": [
    "def element_load(node_idx_1, node_idx_2):\n",
    "    return df_node.iloc[:2, node_idx_1 - 1], df_node.iloc[:2, node_idx_2 - 1]\n",
    "\n",
    "def element_length(node1, node2):\n",
    "    return sqrt( (node2[0] - node1[0])**2 + (node2[1] - node1[1])**2 )\n",
    "\n",
    "def element_cos(node1, node2):\n",
    "    return (node2[0] - node1[0])/element_length(node1, node2)\n",
    "\n",
    "def element_sin(node1, node2):\n",
    "    return (node2[1] - node1[1])/element_length(node1, node2)\n"
   ]
  },
  {
   "cell_type": "code",
   "execution_count": 172,
   "metadata": {},
   "outputs": [],
   "source": [
    "def matrix_sin_cos(node1, node2):\n",
    "    n1, n2 = element_load(node1, node2)\n",
    "    c = element_cos(n1, n2)\n",
    "    s = element_sin(n1, n2)\n",
    "    freedom_index = [2*node1-1, 2*node1, 2*node2-1, 2*node2]\n",
    "    data = [[  c**2,   c*s, -c**2,  -c*s],\n",
    "            [   c*s,  s**2,  -c*s, -s**2],\n",
    "            [ -c**2,  -c*s,  c**2,   c*s],\n",
    "            [  -c*s, -s**2,   c*s,  s**2]]\n",
    "    return pd.DataFrame(data, index=freedom_index, columns=freedom_index)"
   ]
  },
  {
   "cell_type": "code",
   "execution_count": 123,
   "metadata": {},
   "outputs": [],
   "source": [
    "def Ke (node1, node2):\n",
    "    msc = matrix_sin_cos(node1, node2)\n",
    "    try:\n",
    "        E = df_incidence[(df_incidence['Node 1'] == node1) & (df_incidence['Node 2'] == node2)]['E [Pa]']\n",
    "        A = df_incidence[(df_incidence['Node 1'] == node1) & (df_incidence['Node 2'] == node2)]['A [m²]']\n",
    "    except:\n",
    "        E = df_incidence[(df_incidence['Node 1'] == node2) & (df_incidence['Node 2'] == node1)]['E [Pa]']\n",
    "        A = df_incidence[(df_incidence['Node 1'] == node2) & (df_incidence['Node 2'] == node1)]['A [m²]']\n",
    "        \n",
    "    l = element_length(node1, node2)\n",
    "    return ( E.values[0]*A.values[0]/l ) * msc"
   ]
  },
  {
   "cell_type": "code",
   "execution_count": 124,
   "metadata": {},
   "outputs": [
    {
     "data": {
      "text/html": [
       "<div>\n",
       "<style scoped>\n",
       "    .dataframe tbody tr th:only-of-type {\n",
       "        vertical-align: middle;\n",
       "    }\n",
       "\n",
       "    .dataframe tbody tr th {\n",
       "        vertical-align: top;\n",
       "    }\n",
       "\n",
       "    .dataframe thead th {\n",
       "        text-align: right;\n",
       "    }\n",
       "</style>\n",
       "<table border=\"1\" class=\"dataframe\">\n",
       "  <thead>\n",
       "    <tr style=\"text-align: right;\">\n",
       "      <th></th>\n",
       "      <th>1</th>\n",
       "      <th>2</th>\n",
       "      <th>3</th>\n",
       "      <th>4</th>\n",
       "      <th>5</th>\n",
       "      <th>6</th>\n",
       "    </tr>\n",
       "  </thead>\n",
       "  <tbody>\n",
       "    <tr>\n",
       "      <th>1</th>\n",
       "      <td>0</td>\n",
       "      <td>0</td>\n",
       "      <td>0</td>\n",
       "      <td>0</td>\n",
       "      <td>0</td>\n",
       "      <td>0</td>\n",
       "    </tr>\n",
       "    <tr>\n",
       "      <th>2</th>\n",
       "      <td>0</td>\n",
       "      <td>0</td>\n",
       "      <td>0</td>\n",
       "      <td>0</td>\n",
       "      <td>0</td>\n",
       "      <td>0</td>\n",
       "    </tr>\n",
       "    <tr>\n",
       "      <th>3</th>\n",
       "      <td>0</td>\n",
       "      <td>0</td>\n",
       "      <td>0</td>\n",
       "      <td>0</td>\n",
       "      <td>0</td>\n",
       "      <td>0</td>\n",
       "    </tr>\n",
       "    <tr>\n",
       "      <th>4</th>\n",
       "      <td>0</td>\n",
       "      <td>0</td>\n",
       "      <td>0</td>\n",
       "      <td>0</td>\n",
       "      <td>0</td>\n",
       "      <td>0</td>\n",
       "    </tr>\n",
       "    <tr>\n",
       "      <th>5</th>\n",
       "      <td>0</td>\n",
       "      <td>0</td>\n",
       "      <td>0</td>\n",
       "      <td>0</td>\n",
       "      <td>0</td>\n",
       "      <td>0</td>\n",
       "    </tr>\n",
       "    <tr>\n",
       "      <th>6</th>\n",
       "      <td>0</td>\n",
       "      <td>0</td>\n",
       "      <td>0</td>\n",
       "      <td>0</td>\n",
       "      <td>0</td>\n",
       "      <td>0</td>\n",
       "    </tr>\n",
       "  </tbody>\n",
       "</table>\n",
       "</div>"
      ],
      "text/plain": [
       "   1  2  3  4  5  6\n",
       "1  0  0  0  0  0  0\n",
       "2  0  0  0  0  0  0\n",
       "3  0  0  0  0  0  0\n",
       "4  0  0  0  0  0  0\n",
       "5  0  0  0  0  0  0\n",
       "6  0  0  0  0  0  0"
      ]
     },
     "execution_count": 124,
     "metadata": {},
     "output_type": "execute_result"
    }
   ],
   "source": [
    "df_freedom = freedom_matrix(amount_nodes)\n",
    "df_freedom"
   ]
  },
  {
   "cell_type": "code",
   "execution_count": 125,
   "metadata": {},
   "outputs": [
    {
     "data": {
      "text/html": [
       "<div>\n",
       "<style scoped>\n",
       "    .dataframe tbody tr th:only-of-type {\n",
       "        vertical-align: middle;\n",
       "    }\n",
       "\n",
       "    .dataframe tbody tr th {\n",
       "        vertical-align: top;\n",
       "    }\n",
       "\n",
       "    .dataframe thead th {\n",
       "        text-align: right;\n",
       "    }\n",
       "</style>\n",
       "<table border=\"1\" class=\"dataframe\">\n",
       "  <thead>\n",
       "    <tr style=\"text-align: right;\">\n",
       "      <th></th>\n",
       "      <th>Node 1</th>\n",
       "      <th>Node 2</th>\n",
       "      <th>E [Pa]</th>\n",
       "      <th>A [m²]</th>\n",
       "    </tr>\n",
       "  </thead>\n",
       "  <tbody>\n",
       "    <tr>\n",
       "      <th>0</th>\n",
       "      <td>1</td>\n",
       "      <td>2</td>\n",
       "      <td>210000000000</td>\n",
       "      <td>0.0002</td>\n",
       "    </tr>\n",
       "    <tr>\n",
       "      <th>1</th>\n",
       "      <td>2</td>\n",
       "      <td>3</td>\n",
       "      <td>210000000000</td>\n",
       "      <td>0.0002</td>\n",
       "    </tr>\n",
       "    <tr>\n",
       "      <th>2</th>\n",
       "      <td>3</td>\n",
       "      <td>1</td>\n",
       "      <td>210000000000</td>\n",
       "      <td>0.0002</td>\n",
       "    </tr>\n",
       "  </tbody>\n",
       "</table>\n",
       "</div>"
      ],
      "text/plain": [
       "   Node 1  Node 2        E [Pa]  A [m²]\n",
       "0       1       2  210000000000  0.0002\n",
       "1       2       3  210000000000  0.0002\n",
       "2       3       1  210000000000  0.0002"
      ]
     },
     "execution_count": 125,
     "metadata": {},
     "output_type": "execute_result"
    }
   ],
   "source": [
    "df_incidence"
   ]
  },
  {
   "cell_type": "code",
   "execution_count": 126,
   "metadata": {},
   "outputs": [
    {
     "name": "stdout",
     "output_type": "stream",
     "text": [
      "[     1            2    3            4\n",
      "1  0.0          0.0 -0.0         -0.0\n",
      "2  0.0  105000000.0 -0.0 -105000000.0\n",
      "3 -0.0         -0.0  0.0          0.0\n",
      "4 -0.0 -105000000.0  0.0  105000000.0,\n",
      "              3    4            5    6\n",
      "3  140000000.0  0.0 -140000000.0 -0.0\n",
      "4          0.0  0.0         -0.0 -0.0\n",
      "5 -140000000.0 -0.0  140000000.0  0.0\n",
      "6         -0.0 -0.0          0.0  0.0,\n",
      "             5           6           1           2\n",
      "5  30240000.0  40320000.0 -30240000.0 -40320000.0\n",
      "6  40320000.0  53760000.0 -40320000.0 -53760000.0\n",
      "1 -30240000.0 -40320000.0  30240000.0  40320000.0\n",
      "2 -40320000.0 -53760000.0  40320000.0  53760000.0]\n"
     ]
    }
   ],
   "source": [
    "Ke_list = []\n",
    "for element in range(amount_incidence):\n",
    "    node1 = int(df_incidence.iloc[element,:].loc['Node 1'])\n",
    "    node2 = int(df_incidence.iloc[element,:].loc['Node 2'])\n",
    "    Ke_list.append(Ke(node1, node2))\n",
    "pprint(Ke_list)"
   ]
  },
  {
   "cell_type": "code",
   "execution_count": 135,
   "metadata": {},
   "outputs": [],
   "source": [
    "def overlapping(matrix1, matrix2):\n",
    "    overlap = lambda v1, v2: v1 + v2\n",
    "    return matrix1.combine(matrix2, overlap, overwrite=False).fillna(0)"
   ]
  },
  {
   "cell_type": "code",
   "execution_count": 137,
   "metadata": {},
   "outputs": [
    {
     "data": {
      "text/html": [
       "<div>\n",
       "<style scoped>\n",
       "    .dataframe tbody tr th:only-of-type {\n",
       "        vertical-align: middle;\n",
       "    }\n",
       "\n",
       "    .dataframe tbody tr th {\n",
       "        vertical-align: top;\n",
       "    }\n",
       "\n",
       "    .dataframe thead th {\n",
       "        text-align: right;\n",
       "    }\n",
       "</style>\n",
       "<table border=\"1\" class=\"dataframe\">\n",
       "  <thead>\n",
       "    <tr style=\"text-align: right;\">\n",
       "      <th></th>\n",
       "      <th>1</th>\n",
       "      <th>2</th>\n",
       "      <th>3</th>\n",
       "      <th>4</th>\n",
       "      <th>5</th>\n",
       "      <th>6</th>\n",
       "    </tr>\n",
       "  </thead>\n",
       "  <tbody>\n",
       "    <tr>\n",
       "      <th>1</th>\n",
       "      <td>30240000.0</td>\n",
       "      <td>40320000.0</td>\n",
       "      <td>0.0</td>\n",
       "      <td>0.0</td>\n",
       "      <td>-30240000.0</td>\n",
       "      <td>-40320000.0</td>\n",
       "    </tr>\n",
       "    <tr>\n",
       "      <th>2</th>\n",
       "      <td>40320000.0</td>\n",
       "      <td>158760000.0</td>\n",
       "      <td>0.0</td>\n",
       "      <td>0.0</td>\n",
       "      <td>-40320000.0</td>\n",
       "      <td>-53760000.0</td>\n",
       "    </tr>\n",
       "    <tr>\n",
       "      <th>3</th>\n",
       "      <td>0.0</td>\n",
       "      <td>0.0</td>\n",
       "      <td>140000000.0</td>\n",
       "      <td>0.0</td>\n",
       "      <td>0.0</td>\n",
       "      <td>0.0</td>\n",
       "    </tr>\n",
       "    <tr>\n",
       "      <th>4</th>\n",
       "      <td>0.0</td>\n",
       "      <td>0.0</td>\n",
       "      <td>0.0</td>\n",
       "      <td>105000000.0</td>\n",
       "      <td>0.0</td>\n",
       "      <td>0.0</td>\n",
       "    </tr>\n",
       "    <tr>\n",
       "      <th>5</th>\n",
       "      <td>-30240000.0</td>\n",
       "      <td>-40320000.0</td>\n",
       "      <td>-140000000.0</td>\n",
       "      <td>0.0</td>\n",
       "      <td>170240000.0</td>\n",
       "      <td>40320000.0</td>\n",
       "    </tr>\n",
       "    <tr>\n",
       "      <th>6</th>\n",
       "      <td>-40320000.0</td>\n",
       "      <td>-53760000.0</td>\n",
       "      <td>0.0</td>\n",
       "      <td>0.0</td>\n",
       "      <td>40320000.0</td>\n",
       "      <td>53760000.0</td>\n",
       "    </tr>\n",
       "  </tbody>\n",
       "</table>\n",
       "</div>"
      ],
      "text/plain": [
       "            1            2            3            4            5           6\n",
       "1  30240000.0   40320000.0          0.0          0.0  -30240000.0 -40320000.0\n",
       "2  40320000.0  158760000.0          0.0          0.0  -40320000.0 -53760000.0\n",
       "3         0.0          0.0  140000000.0          0.0          0.0         0.0\n",
       "4         0.0          0.0          0.0  105000000.0          0.0         0.0\n",
       "5 -30240000.0  -40320000.0 -140000000.0          0.0  170240000.0  40320000.0\n",
       "6 -40320000.0  -53760000.0          0.0          0.0   40320000.0  53760000.0"
      ]
     },
     "execution_count": 137,
     "metadata": {},
     "output_type": "execute_result"
    }
   ],
   "source": [
    "df_global_rigidity = df_freedom.copy()\n",
    "for df_Ke in Ke_list:\n",
    "    df_global_rigidity = overlapping(df_global_rigidity, df_Ke)\n",
    "df_global_rigidity"
   ]
  },
  {
   "cell_type": "code",
   "execution_count": 138,
   "metadata": {},
   "outputs": [
    {
     "name": "stdout",
     "output_type": "stream",
     "text": [
      "[1, 3, 4]\n"
     ]
    }
   ],
   "source": [
    "\n",
    "dimensions = 2\n",
    "freedom_restrains = []\n",
    "for restrain in range(amount_restrains):\n",
    "    if df_restrains['1 = x               2 = y'][restrain] == 1:\n",
    "        freedom_restrains.append( dimensions*df_restrain['Node'][restrain] - 1 )\n",
    "    else:\n",
    "        freedom_restrains.append( dimensions*df_restrain['Node'][restrain] )\n",
    "\n",
    "print(freedom_restrains)    "
   ]
  },
  {
   "cell_type": "code",
   "execution_count": 139,
   "metadata": {},
   "outputs": [
    {
     "data": {
      "text/html": [
       "<div>\n",
       "<style scoped>\n",
       "    .dataframe tbody tr th:only-of-type {\n",
       "        vertical-align: middle;\n",
       "    }\n",
       "\n",
       "    .dataframe tbody tr th {\n",
       "        vertical-align: top;\n",
       "    }\n",
       "\n",
       "    .dataframe thead th {\n",
       "        text-align: right;\n",
       "    }\n",
       "</style>\n",
       "<table border=\"1\" class=\"dataframe\">\n",
       "  <thead>\n",
       "    <tr style=\"text-align: right;\">\n",
       "      <th></th>\n",
       "      <th>2</th>\n",
       "      <th>5</th>\n",
       "      <th>6</th>\n",
       "    </tr>\n",
       "  </thead>\n",
       "  <tbody>\n",
       "    <tr>\n",
       "      <th>2</th>\n",
       "      <td>158760000.0</td>\n",
       "      <td>-40320000.0</td>\n",
       "      <td>-53760000.0</td>\n",
       "    </tr>\n",
       "    <tr>\n",
       "      <th>5</th>\n",
       "      <td>-40320000.0</td>\n",
       "      <td>170240000.0</td>\n",
       "      <td>40320000.0</td>\n",
       "    </tr>\n",
       "    <tr>\n",
       "      <th>6</th>\n",
       "      <td>-53760000.0</td>\n",
       "      <td>40320000.0</td>\n",
       "      <td>53760000.0</td>\n",
       "    </tr>\n",
       "  </tbody>\n",
       "</table>\n",
       "</div>"
      ],
      "text/plain": [
       "             2            5           6\n",
       "2  158760000.0  -40320000.0 -53760000.0\n",
       "5  -40320000.0  170240000.0  40320000.0\n",
       "6  -53760000.0   40320000.0  53760000.0"
      ]
     },
     "execution_count": 139,
     "metadata": {},
     "output_type": "execute_result"
    }
   ],
   "source": [
    "new_rows = df_global_rigidity.index.difference(freedom_restrains).to_list()\n",
    "new_cols = df_global_rigidity.columns.difference(freedom_restrains).to_list()\n",
    "df_contours = df_global_rigidity.loc[new_cols, new_rows]\n",
    "df_contours"
   ]
  },
  {
   "cell_type": "code",
   "execution_count": 140,
   "metadata": {},
   "outputs": [
    {
     "data": {
      "text/html": [
       "<div>\n",
       "<style scoped>\n",
       "    .dataframe tbody tr th:only-of-type {\n",
       "        vertical-align: middle;\n",
       "    }\n",
       "\n",
       "    .dataframe tbody tr th {\n",
       "        vertical-align: top;\n",
       "    }\n",
       "\n",
       "    .dataframe thead th {\n",
       "        text-align: right;\n",
       "    }\n",
       "</style>\n",
       "<table border=\"1\" class=\"dataframe\">\n",
       "  <thead>\n",
       "    <tr style=\"text-align: right;\">\n",
       "      <th></th>\n",
       "      <th>F</th>\n",
       "    </tr>\n",
       "  </thead>\n",
       "  <tbody>\n",
       "    <tr>\n",
       "      <th>2</th>\n",
       "      <td>0</td>\n",
       "    </tr>\n",
       "    <tr>\n",
       "      <th>5</th>\n",
       "      <td>150</td>\n",
       "    </tr>\n",
       "    <tr>\n",
       "      <th>6</th>\n",
       "      <td>-100</td>\n",
       "    </tr>\n",
       "  </tbody>\n",
       "</table>\n",
       "</div>"
      ],
      "text/plain": [
       "     F\n",
       "2    0\n",
       "5  150\n",
       "6 -100"
      ]
     },
     "execution_count": 140,
     "metadata": {},
     "output_type": "execute_result"
    }
   ],
   "source": [
    "df_global_forces = pd.DataFrame(index=new_cols, columns=['F']).fillna(0)\n",
    "dimensions = 2\n",
    "for load in range(amount_loads):\n",
    "    if df_load['1 = x               2 = y'][load] == 1:\n",
    "        df_global_forces['F'][dimensions*df_load['Node'][load] - 1 ] = df_load['Load [N]'][load] \n",
    "    else:\n",
    "        df_global_forces['F'][dimensions*df_load['Node'][load]] = df_load['Load [N]'][load]\n",
    "\n",
    "df_global_forces"
   ]
  },
  {
   "cell_type": "code",
   "execution_count": 150,
   "metadata": {},
   "outputs": [
    {
     "data": {
      "text/html": [
       "<div>\n",
       "<style scoped>\n",
       "    .dataframe tbody tr th:only-of-type {\n",
       "        vertical-align: middle;\n",
       "    }\n",
       "\n",
       "    .dataframe tbody tr th {\n",
       "        vertical-align: top;\n",
       "    }\n",
       "\n",
       "    .dataframe thead th {\n",
       "        text-align: right;\n",
       "    }\n",
       "</style>\n",
       "<table border=\"1\" class=\"dataframe\">\n",
       "  <thead>\n",
       "    <tr style=\"text-align: right;\">\n",
       "      <th></th>\n",
       "      <th>0</th>\n",
       "    </tr>\n",
       "  </thead>\n",
       "  <tbody>\n",
       "    <tr>\n",
       "      <th>1</th>\n",
       "      <td>0.000000e+00</td>\n",
       "    </tr>\n",
       "    <tr>\n",
       "      <th>2</th>\n",
       "      <td>-9.523810e-07</td>\n",
       "    </tr>\n",
       "    <tr>\n",
       "      <th>3</th>\n",
       "      <td>0.000000e+00</td>\n",
       "    </tr>\n",
       "    <tr>\n",
       "      <th>4</th>\n",
       "      <td>0.000000e+00</td>\n",
       "    </tr>\n",
       "    <tr>\n",
       "      <th>5</th>\n",
       "      <td>1.607143e-06</td>\n",
       "    </tr>\n",
       "    <tr>\n",
       "      <th>6</th>\n",
       "      <td>-4.017857e-06</td>\n",
       "    </tr>\n",
       "  </tbody>\n",
       "</table>\n",
       "</div>"
      ],
      "text/plain": [
       "              0\n",
       "1  0.000000e+00\n",
       "2 -9.523810e-07\n",
       "3  0.000000e+00\n",
       "4  0.000000e+00\n",
       "5  1.607143e-06\n",
       "6 -4.017857e-06"
      ]
     },
     "execution_count": 150,
     "metadata": {},
     "output_type": "execute_result"
    }
   ],
   "source": [
    "df_displacement = pd.DataFrame(np.linalg.solve(df_contours, df_global_forces), index=df_global_forces.index)\n",
    "dimension = 2\n",
    "df_displacement = df_displacement.reindex(list(range(1, dimension*amount_nodes + 1)), fill_value=0)\n",
    "df_displacement"
   ]
  },
  {
   "cell_type": "code",
   "execution_count": 220,
   "metadata": {},
   "outputs": [],
   "source": [
    "def strain_on_element(node1, node2, displacement):\n",
    "    n1, n2 = element_load(node1, node2)\n",
    "    c = element_cos(n1, n2)\n",
    "    s = element_sin(n1, n2)\n",
    "    l = element_length(n1, n2)\n",
    "\n",
    "    freedom_index = [2*node1 - 1, 2*node1, 2*node2 - 1, 2*node2]\n",
    "    nodal_displacement = displacement.loc[freedom_index, :]\n",
    "\n",
    "    data = [[-c, -s, c, s]]\n",
    "    df_data = (1/l) * pd.DataFrame( data, columns=freedom_index )\n",
    "\n",
    "    return df_data.dot(nodal_displacement).iloc[0,0]\n"
   ]
  },
  {
   "cell_type": "code",
   "execution_count": 221,
   "metadata": {},
   "outputs": [
    {
     "name": "stdout",
     "output_type": "stream",
     "text": [
      "2.3809523809523808e-06\n",
      "5.357142857142857e-06\n",
      "-2.9761904761904754e-06\n"
     ]
    }
   ],
   "source": [
    "print(strain_on_element(1, 2, df_displacement))\n",
    "print(strain_on_element(2, 3, df_displacement))\n",
    "print(strain_on_element(3, 1, df_displacement))\n"
   ]
  },
  {
   "cell_type": "code",
   "execution_count": 224,
   "metadata": {},
   "outputs": [],
   "source": [
    "def stress_on_element(node1, node2, displacement):\n",
    "    n1, n2 = element_load(node1, node2)\n",
    "    c = element_cos(n1, n2)\n",
    "    s = element_sin(n1, n2)\n",
    "    l = element_length(n1, n2)\n",
    "    try:\n",
    "        E = df_incidence[(df_incidence['Node 1'] == node1) & (df_incidence['Node 2'] == node2)]['E [Pa]']\n",
    "    except:\n",
    "        E = df_incidence[(df_incidence['Node 1'] == node2) & (df_incidence['Node 2'] == node1)]['E [Pa]']\n",
    "\n",
    "    freedom_index = [2*node1 - 1, 2*node1, 2*node2 - 1, 2*node2]\n",
    "    nodal_displacement = displacement.loc[freedom_index, :]\n",
    "\n",
    "    data = [[-c, -s, c, s]]\n",
    "    df_data = (E.values[0]/l) * pd.DataFrame( data, columns=freedom_index )\n",
    "    return df_data.dot(nodal_displacement).iloc[0,0]"
   ]
  },
  {
   "cell_type": "code",
   "execution_count": 225,
   "metadata": {},
   "outputs": [
    {
     "name": "stdout",
     "output_type": "stream",
     "text": [
      "500000.0\n",
      "1124999.9999999998\n",
      "-624999.9999999998\n"
     ]
    }
   ],
   "source": [
    "print(stress_on_element(1, 2, df_displacement))\n",
    "print(stress_on_element(2, 3, df_displacement))\n",
    "print(stress_on_element(3, 1, df_displacement))"
   ]
  },
  {
   "cell_type": "code",
   "execution_count": 240,
   "metadata": {},
   "outputs": [
    {
     "name": "stdout",
     "output_type": "stream",
     "text": [
      "     0\n",
      "0  0.0\n",
      "1  0.0\n",
      "2  0.0\n"
     ]
    },
    {
     "ename": "KeyError",
     "evalue": "(0, 0)",
     "output_type": "error",
     "traceback": [
      "\u001b[1;31m---------------------------------------------------------------------------\u001b[0m",
      "\u001b[1;31mKeyError\u001b[0m                                  Traceback (most recent call last)",
      "\u001b[1;32mC:\\Users\\DUALST~1\\AppData\\Local\\Temp/ipykernel_15376/2492284383.py\u001b[0m in \u001b[0;36m<module>\u001b[1;34m\u001b[0m\n\u001b[0;32m     22\u001b[0m \u001b[0mF\u001b[0m \u001b[1;33m=\u001b[0m \u001b[0mpd\u001b[0m\u001b[1;33m.\u001b[0m\u001b[0mDataFrame\u001b[0m\u001b[1;33m(\u001b[0m \u001b[1;33m[\u001b[0m\u001b[1;33m[\u001b[0m\u001b[1;36m7.85\u001b[0m\u001b[1;33m,\u001b[0m \u001b[1;33m-\u001b[0m\u001b[1;36m19.3\u001b[0m\u001b[1;33m,\u001b[0m \u001b[1;36m71.4\u001b[0m\u001b[1;33m]\u001b[0m\u001b[1;33m]\u001b[0m\u001b[1;33m)\u001b[0m\u001b[1;33m\u001b[0m\u001b[1;33m\u001b[0m\u001b[0m\n\u001b[0;32m     23\u001b[0m \u001b[1;33m\u001b[0m\u001b[0m\n\u001b[1;32m---> 24\u001b[1;33m \u001b[0msolver_fem\u001b[0m\u001b[1;33m(\u001b[0m\u001b[0mK\u001b[0m\u001b[1;33m,\u001b[0m \u001b[0mF\u001b[0m\u001b[1;33m)\u001b[0m\u001b[1;33m\u001b[0m\u001b[1;33m\u001b[0m\u001b[0m\n\u001b[0m",
      "\u001b[1;32mC:\\Users\\DUALST~1\\AppData\\Local\\Temp/ipykernel_15376/2492284383.py\u001b[0m in \u001b[0;36msolver_fem\u001b[1;34m(matrix_K, matrix_F, method)\u001b[0m\n\u001b[0;32m     12\u001b[0m             \u001b[0mx_new\u001b[0m \u001b[1;33m=\u001b[0m \u001b[0mmatrix_F\u001b[0m\u001b[1;33m.\u001b[0m\u001b[0miloc\u001b[0m\u001b[1;33m[\u001b[0m\u001b[0mi\u001b[0m\u001b[1;33m,\u001b[0m \u001b[1;36m0\u001b[0m\u001b[1;33m]\u001b[0m\u001b[1;33m\u001b[0m\u001b[1;33m\u001b[0m\u001b[0m\n\u001b[0;32m     13\u001b[0m             \u001b[1;32mfor\u001b[0m \u001b[0mj\u001b[0m \u001b[1;32min\u001b[0m \u001b[0mrange\u001b[0m\u001b[1;33m(\u001b[0m\u001b[0mmatrix_K\u001b[0m\u001b[1;33m.\u001b[0m\u001b[0mshape\u001b[0m\u001b[1;33m[\u001b[0m\u001b[1;36m1\u001b[0m\u001b[1;33m]\u001b[0m\u001b[1;33m)\u001b[0m\u001b[1;33m:\u001b[0m\u001b[1;33m\u001b[0m\u001b[1;33m\u001b[0m\u001b[0m\n\u001b[1;32m---> 14\u001b[1;33m                 \u001b[0mx_new\u001b[0m \u001b[1;33m+=\u001b[0m \u001b[0mmatrix_K\u001b[0m\u001b[1;33m.\u001b[0m\u001b[0miloc\u001b[0m\u001b[1;33m[\u001b[0m\u001b[0mi\u001b[0m\u001b[1;33m,\u001b[0m \u001b[0mj\u001b[0m\u001b[1;33m]\u001b[0m\u001b[1;33m*\u001b[0m\u001b[0msolution\u001b[0m\u001b[1;33m[\u001b[0m\u001b[0mi\u001b[0m\u001b[1;33m,\u001b[0m \u001b[1;36m0\u001b[0m\u001b[1;33m]\u001b[0m\u001b[1;33m\u001b[0m\u001b[1;33m\u001b[0m\u001b[0m\n\u001b[0m\u001b[0;32m     15\u001b[0m                 \u001b[0mprint\u001b[0m\u001b[1;33m(\u001b[0m\u001b[0mx_new\u001b[0m\u001b[1;33m)\u001b[0m\u001b[1;33m\u001b[0m\u001b[1;33m\u001b[0m\u001b[0m\n\u001b[0;32m     16\u001b[0m             \u001b[1;31m# solution.iloc[i, 0] = x_new\u001b[0m\u001b[1;33m\u001b[0m\u001b[1;33m\u001b[0m\u001b[0m\n",
      "\u001b[1;32m~\\AppData\\Local\\Programs\\Python\\Python39\\lib\\site-packages\\pandas\\core\\frame.py\u001b[0m in \u001b[0;36m__getitem__\u001b[1;34m(self, key)\u001b[0m\n\u001b[0;32m   3456\u001b[0m             \u001b[1;32mif\u001b[0m \u001b[0mself\u001b[0m\u001b[1;33m.\u001b[0m\u001b[0mcolumns\u001b[0m\u001b[1;33m.\u001b[0m\u001b[0mnlevels\u001b[0m \u001b[1;33m>\u001b[0m \u001b[1;36m1\u001b[0m\u001b[1;33m:\u001b[0m\u001b[1;33m\u001b[0m\u001b[1;33m\u001b[0m\u001b[0m\n\u001b[0;32m   3457\u001b[0m                 \u001b[1;32mreturn\u001b[0m \u001b[0mself\u001b[0m\u001b[1;33m.\u001b[0m\u001b[0m_getitem_multilevel\u001b[0m\u001b[1;33m(\u001b[0m\u001b[0mkey\u001b[0m\u001b[1;33m)\u001b[0m\u001b[1;33m\u001b[0m\u001b[1;33m\u001b[0m\u001b[0m\n\u001b[1;32m-> 3458\u001b[1;33m             \u001b[0mindexer\u001b[0m \u001b[1;33m=\u001b[0m \u001b[0mself\u001b[0m\u001b[1;33m.\u001b[0m\u001b[0mcolumns\u001b[0m\u001b[1;33m.\u001b[0m\u001b[0mget_loc\u001b[0m\u001b[1;33m(\u001b[0m\u001b[0mkey\u001b[0m\u001b[1;33m)\u001b[0m\u001b[1;33m\u001b[0m\u001b[1;33m\u001b[0m\u001b[0m\n\u001b[0m\u001b[0;32m   3459\u001b[0m             \u001b[1;32mif\u001b[0m \u001b[0mis_integer\u001b[0m\u001b[1;33m(\u001b[0m\u001b[0mindexer\u001b[0m\u001b[1;33m)\u001b[0m\u001b[1;33m:\u001b[0m\u001b[1;33m\u001b[0m\u001b[1;33m\u001b[0m\u001b[0m\n\u001b[0;32m   3460\u001b[0m                 \u001b[0mindexer\u001b[0m \u001b[1;33m=\u001b[0m \u001b[1;33m[\u001b[0m\u001b[0mindexer\u001b[0m\u001b[1;33m]\u001b[0m\u001b[1;33m\u001b[0m\u001b[1;33m\u001b[0m\u001b[0m\n",
      "\u001b[1;32m~\\AppData\\Local\\Programs\\Python\\Python39\\lib\\site-packages\\pandas\\core\\indexes\\range.py\u001b[0m in \u001b[0;36mget_loc\u001b[1;34m(self, key, method, tolerance)\u001b[0m\n\u001b[0;32m    386\u001b[0m                 \u001b[1;32mexcept\u001b[0m \u001b[0mValueError\u001b[0m \u001b[1;32mas\u001b[0m \u001b[0merr\u001b[0m\u001b[1;33m:\u001b[0m\u001b[1;33m\u001b[0m\u001b[1;33m\u001b[0m\u001b[0m\n\u001b[0;32m    387\u001b[0m                     \u001b[1;32mraise\u001b[0m \u001b[0mKeyError\u001b[0m\u001b[1;33m(\u001b[0m\u001b[0mkey\u001b[0m\u001b[1;33m)\u001b[0m \u001b[1;32mfrom\u001b[0m \u001b[0merr\u001b[0m\u001b[1;33m\u001b[0m\u001b[1;33m\u001b[0m\u001b[0m\n\u001b[1;32m--> 388\u001b[1;33m             \u001b[1;32mraise\u001b[0m \u001b[0mKeyError\u001b[0m\u001b[1;33m(\u001b[0m\u001b[0mkey\u001b[0m\u001b[1;33m)\u001b[0m\u001b[1;33m\u001b[0m\u001b[1;33m\u001b[0m\u001b[0m\n\u001b[0m\u001b[0;32m    389\u001b[0m         \u001b[1;32mreturn\u001b[0m \u001b[0msuper\u001b[0m\u001b[1;33m(\u001b[0m\u001b[1;33m)\u001b[0m\u001b[1;33m.\u001b[0m\u001b[0mget_loc\u001b[0m\u001b[1;33m(\u001b[0m\u001b[0mkey\u001b[0m\u001b[1;33m,\u001b[0m \u001b[0mmethod\u001b[0m\u001b[1;33m=\u001b[0m\u001b[0mmethod\u001b[0m\u001b[1;33m,\u001b[0m \u001b[0mtolerance\u001b[0m\u001b[1;33m=\u001b[0m\u001b[0mtolerance\u001b[0m\u001b[1;33m)\u001b[0m\u001b[1;33m\u001b[0m\u001b[1;33m\u001b[0m\u001b[0m\n\u001b[0;32m    390\u001b[0m \u001b[1;33m\u001b[0m\u001b[0m\n",
      "\u001b[1;31mKeyError\u001b[0m: (0, 0)"
     ]
    }
   ],
   "source": [
    "def solver_fem(matrix_K, matrix_F, method='gauss'):\n",
    "    # if(method == 'gauss'):\n",
    "    # elif(method == 'jacobi'):\n",
    "    if matrix_K.shape[0] != matrix_F.shape[1]:\n",
    "        raise ValueError(\"Matrices dimensions doesn't agree\")\n",
    "    else:\n",
    "\n",
    "        solution = pd.DataFrame( np.zeros((matrix_K.shape[0], 1)) )\n",
    "        pprint(solution)\n",
    "\n",
    "        for i in range(matrix_K.shape[0]):\n",
    "            x_new = matrix_F.iloc[i, 0]\n",
    "            for j in range(matrix_K.shape[1]):\n",
    "                x_new += matrix_K.iloc[i, j]*solution[i, 0]\n",
    "                print(x_new)\n",
    "            # solution.iloc[i, 0] = x_new\n",
    "            print(x_new)\n",
    "            break\n",
    "\n",
    "K = pd.DataFrame( [[3, -0.1, -0.2], [0.1, 7, -0.3], [0.3, -0.2, 10]] )\n",
    "F = pd.DataFrame( [[7.85, -19.3, 71.4]])\n",
    "\n",
    "solver_fem(K, F)\n"
   ]
  },
  {
   "cell_type": "code",
   "execution_count": null,
   "metadata": {},
   "outputs": [],
   "source": []
  }
 ],
 "metadata": {
  "interpreter": {
   "hash": "9c688c3da5bd2a32d81bf7eab5b87f3347d8796b309d332b5605ebd5586bf298"
  },
  "kernelspec": {
   "display_name": "Python 3.9.7 64-bit",
   "language": "python",
   "name": "python3"
  },
  "language_info": {
   "codemirror_mode": {
    "name": "ipython",
    "version": 3
   },
   "file_extension": ".py",
   "mimetype": "text/x-python",
   "name": "python",
   "nbconvert_exporter": "python",
   "pygments_lexer": "ipython3",
   "version": "3.9.7"
  },
  "orig_nbformat": 4
 },
 "nbformat": 4,
 "nbformat_minor": 2
}
